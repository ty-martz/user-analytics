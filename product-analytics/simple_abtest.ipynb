{
 "cells": [
  {
   "attachments": {},
   "cell_type": "markdown",
   "metadata": {},
   "source": [
    "## A/B Testing on Clicks and Views\n",
    "---"
   ]
  },
  {
   "cell_type": "code",
   "execution_count": 1,
   "metadata": {},
   "outputs": [],
   "source": [
    "import pandas as pd\n",
    "from scipy.stats import ttest_ind\n",
    "from helpers import print_group_stats, plot_histograms"
   ]
  },
  {
   "cell_type": "code",
   "execution_count": 2,
   "metadata": {},
   "outputs": [
    {
     "name": "stdout",
     "output_type": "stream",
     "text": [
      "Control Group Size = 60000\n",
      "Test Group Size = 60000\n"
     ]
    }
   ],
   "source": [
    "# Load and split data\n",
    "data = pd.read_csv('data/ab_test_data.csv')\n",
    "\n",
    "control = data[data['group'] == 'control']\n",
    "test = data[data['group'] == 'test']\n",
    "\n",
    "print(f\"Control Group Size = {len(control)}\")\n",
    "print(f\"Test Group Size = {len(test)}\")"
   ]
  },
  {
   "cell_type": "code",
   "execution_count": 3,
   "metadata": {},
   "outputs": [
    {
     "name": "stdout",
     "output_type": "stream",
     "text": [
      "--Control--\n",
      "Total Clicks = 10303.0\n",
      "Total Views = 297144.0\n",
      "Avg views per user = 4.9524\n",
      "Clicks per user = 0.17171666666666666\n",
      "CTR = 3.4673424332983336%\n",
      "----\n",
      "\n",
      "--Test--\n",
      "Total Clicks = 11620.0\n",
      "Total Views = 301785.0\n",
      "Avg views per user = 5.02975\n",
      "Clicks per user = 0.19366666666666665\n",
      "CTR = 3.8504233146113953%\n",
      "----\n",
      "\n"
     ]
    }
   ],
   "source": [
    "# Calculate stats\n",
    "for name, grp in zip([\"Control\", \"Test\"], [control, test]):\n",
    "    print(f\"--{name}--\")\n",
    "    print_group_stats(grp)\n",
    "    print('')"
   ]
  },
  {
   "cell_type": "code",
   "execution_count": 4,
   "metadata": {},
   "outputs": [
    {
     "data": {
      "image/png": "[encoded data removed]",
      "text/plain": [
       "<Figure size 640x480 with 1 Axes>"
      ]
     },
     "metadata": {},
     "output_type": "display_data"
    }
   ],
   "source": [
    "metric = 'views' # choose either clicks or views\n",
    "plot_histograms(control[control[metric] < 15][metric], test[test[metric] < 15][metric], density=True, bins=12)"
   ]
  },
  {
   "attachments": {},
   "cell_type": "markdown",
   "metadata": {},
   "source": [
    "Minimal differences and a lot of overlap in the views histograms for both groups"
   ]
  },
  {
   "cell_type": "code",
   "execution_count": 5,
   "metadata": {},
   "outputs": [
    {
     "name": "stdout",
     "output_type": "stream",
     "text": [
      "T-statistic: -8.048\n",
      "P-value: 0.00000000\n",
      "Result IS statistically significant\n"
     ]
    }
   ],
   "source": [
    "# Conduct a two-tailed t-test\n",
    "ts, pv = ttest_ind(control['clicks'], test['clicks'], equal_var=False)\n",
    "\n",
    "print(f\"T-statistic: {ts:.3f}\")\n",
    "print(f\"P-value: {pv:.8f}\")\n",
    "if pv < 0.05:\n",
    "    print(\"Result IS statistically significant\")\n",
    "else:\n",
    "    print(\"Result is NOT statistically significant\")"
   ]
  },
  {
   "attachments": {},
   "cell_type": "markdown",
   "metadata": {},
   "source": [
    "### Results:\n",
    "---\n",
    "\n",
    "With a non-zero t-stat and a p-value of nearly zero, the findings can be seen as statistically significant. This means there is a clear difference between the treatment and control groups that is not due to random chance. This can be seen looking at the CTR where the test groups is higher at 3.8% compared with the control around 3.4%."
   ]
  }
 ],
 "metadata": {
  "kernelspec": {
   "display_name": "env",
   "language": "python",
   "name": "python3"
  },
  "language_info": {
   "codemirror_mode": {
    "name": "ipython",
    "version": 3
   },
   "file_extension": ".py",
   "mimetype": "text/x-python",
   "name": "python",
   "nbconvert_exporter": "python",
   "pygments_lexer": "ipython3",
   "version": "3.8.2"
  },
  "orig_nbformat": 4
 },
 "nbformat": 4,
 "nbformat_minor": 2
}
